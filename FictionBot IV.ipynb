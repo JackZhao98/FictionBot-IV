{
 "cells": [
  {
   "cell_type": "markdown",
   "metadata": {},
   "source": [
    "# Fiction Bot IV\n",
    "### A notebook based automated fiction scraper + EPub generator\n",
    "This notebook is able to scrape and download all chapters from a provided internet novel url (biquge.com.cn), then auto generate a well-formatted ePub ebook, with **Table Of Contents** of course!"
   ]
  },
  {
   "cell_type": "code",
   "execution_count": 2,
   "metadata": {},
   "outputs": [],
   "source": [
    "from bs4 import BeautifulSoup\n",
    "import requests\n",
    "import os\n",
    "import shutil"
   ]
  },
  {
   "cell_type": "code",
   "execution_count": null,
   "metadata": {},
   "outputs": [],
   "source": [
    "base_url = \"https://www.biquge.com.cn/\"\n",
    "url = \"https://www.biquge.com.cn/book/34885/\""
   ]
  },
  {
   "cell_type": "code",
   "execution_count": null,
   "metadata": {},
   "outputs": [],
   "source": [
    "page = requests.get(url)\n",
    "soup = BeautifulSoup(page.text, \"html.parser\")\n",
    "book_title = soup.h1.text\n",
    "author = soup.find(\"meta\", attrs={\"property\":\"og:novel:author\"})['content']"
   ]
  },
  {
   "cell_type": "markdown",
   "metadata": {},
   "source": [
    "### Create Folder Structure for EPub\n",
    "These two folders are necessary under the root directory\n",
    "- META-INF\n",
    "- OPS\n",
    "\n",
    "Plus a file:\n",
    "- mimetype"
   ]
  },
  {
   "cell_type": "code",
   "execution_count": null,
   "metadata": {},
   "outputs": [],
   "source": [
    "try:\n",
    "    os.mkdir(f\"./{book_title}\")\n",
    "except:\n",
    "    print(f\"Folder exists: ./{book_title}\")\n",
    "    pass\n",
    "\n",
    "try:\n",
    "    os.mkdir(f\"./{book_title}/META-INF\")\n",
    "    os.mkdir(f\"./{book_title}/OPS\")\n",
    "except:\n",
    "    pass"
   ]
  },
  {
   "cell_type": "markdown",
   "metadata": {},
   "source": [
    "Write `application/epub+zip` to the mimetype file"
   ]
  },
  {
   "cell_type": "code",
   "execution_count": null,
   "metadata": {},
   "outputs": [],
   "source": [
    "with open(f\"./{book_title}/mimetype\", \"w\") as tmp:\n",
    "    tmp.write(\"application/epub+zip\")"
   ]
  },
  {
   "cell_type": "markdown",
   "metadata": {},
   "source": [
    "Create `container.xml` file"
   ]
  },
  {
   "cell_type": "code",
   "execution_count": null,
   "metadata": {},
   "outputs": [],
   "source": [
    "with open(f\"./{book_title}/META-INF/container.xml\", \"w\") as tmp:\n",
    "    tmp.write('''<?xml version=\"1.0\" encoding=\"UTF-8\" ?>\n",
    "<container version=\"1.0\" xmlns=\"urn:oasis:names:tc:opendocument:xmlns:container\">\n",
    "  <rootfiles>\\n    <rootfile full-path=\"OPS/content.opf\" media-type=\"application/oebps-package+xml\"/>\\n  </rootfiles>\n",
    "</container>\n",
    "''')"
   ]
  },
  {
   "cell_type": "code",
   "execution_count": null,
   "metadata": {},
   "outputs": [],
   "source": [
    "opfcontent = '''<?xml version=\"1.0\" encoding=\"UTF-8\" ?>\n",
    "<package version=\"2.0\" unique-identifier=\"PrimaryID\" xmlns=\"http://www.idpf.org/2007/opf\">\n",
    "<metadata xmlns:dc=\"http://purl.org/dc/elements/1.1/\" xmlns:opf=\"http://www.idpf.org/2007/opf\">\n",
    "%(metadata)s\n",
    "<meta name=\"cover\" content=\"cover\"/>\n",
    "</metadata>\n",
    "<manifest>\n",
    "%(manifest)s\n",
    "<item id=\"ncx\" href=\"content.ncx\" media-type=\"application/x-dtbncx+xml\"/>\n",
    "<item id=\"cover\" href=\"cover.jpg\" media-type=\"image/jpeg\"/>\n",
    "</manifest>\n",
    "<spine toc=\"ncx\">\n",
    "%(ncx)s\n",
    "</spine>\n",
    "</package>\n",
    "'''\n",
    "dc = '<dc:%(tag)s>%(value)s</dc:%(tag)s>'\n",
    "item = \"<item id='%(id)s' href='%(url)s' media-type='application/xhtml+xml'/>\"\n",
    "itemref = \"<itemref idref='%(id)s'/>\"\n",
    "metadata = '\\n'.join([\n",
    "    dc % {'tag': 'title', 'value': book_title},\n",
    "    dc % {'tag': 'creator', 'value': author},\n",
    "    dc % {'tag': 'decription', 'value': \"本文档由Fiction Bot IV自动生成\"},\n",
    "])"
   ]
  },
  {
   "cell_type": "code",
   "execution_count": null,
   "metadata": {},
   "outputs": [],
   "source": [
    "ncxcontent = '''<?xml version=\"1.0\" encoding=\"utf-8\"?>\n",
    "<!DOCTYPE ncx PUBLIC \"-//NISO//DTD ncx 2005-1//EN\" \"http://www.daisy.org/z3986/2005/ncx-2005-1.dtd\">\n",
    "<ncx version=\"2005-1\" xmlns=\"http://www.daisy.org/z3986/2005/ncx/\">\n",
    "<head>\n",
    "  <meta name=\"dtb:uid\" content=\" \"/>\n",
    "  <meta name=\"dtb:depth\" content=\"-1\"/>\n",
    "  <meta name=\"dtb:totalPageCount\" content=\"0\"/>\n",
    "  <meta name=\"dtb:maxPageNumber\" content=\"0\"/>\n",
    "</head>\n",
    " <docTitle><text>%(title)s</text></docTitle>\n",
    " <docAuthor><text>%(creator)s</text></docAuthor>\n",
    "<navMap>\n",
    "%(navpoints)s\n",
    "</navMap>\n",
    "</ncx>\n",
    "'''\n",
    "navpoint = '''<navPoint id='%s' class='level1' playOrder='%d'>\n",
    "<navLabel> <text>%s</text> </navLabel>\n",
    "<content src='%s'/></navPoint>'''"
   ]
  },
  {
   "cell_type": "markdown",
   "metadata": {},
   "source": [
    "Fetch all HTML tags of the menu entries, store in `menu_raw`"
   ]
  },
  {
   "cell_type": "code",
   "execution_count": null,
   "metadata": {},
   "outputs": [],
   "source": [
    "menu_raw = soup.find_all('dd')"
   ]
  },
  {
   "cell_type": "markdown",
   "metadata": {},
   "source": [
    "Then parse href and chapter titiles from each HTML tag, store the information in `menu_info`."
   ]
  },
  {
   "cell_type": "code",
   "execution_count": null,
   "metadata": {},
   "outputs": [],
   "source": [
    "menu_info = []\n",
    "for c, d in enumerate(menu_raw, 1):\n",
    "    menu_info.append({\n",
    "        'id': c, \n",
    "        'link': f'chapter_{c}.html', \n",
    "        'url':d.a['href'], \n",
    "        'chapter':d.text})\n",
    "    \n",
    "menu_info[0]"
   ]
  },
  {
   "cell_type": "code",
   "execution_count": null,
   "metadata": {},
   "outputs": [],
   "source": [
    "manifest = []\n",
    "ncx = []\n",
    "navpoints = []\n",
    "for m in menu_info:\n",
    "    manifest.append(item % {'id': m['link'], 'url':m['link']})\n",
    "    ncx.append(itemref % {'id': m['link']})\n",
    "    navpoints.append(navpoint % (m['link'], m['id'], m['chapter'], m['link']))"
   ]
  },
  {
   "cell_type": "code",
   "execution_count": null,
   "metadata": {},
   "outputs": [],
   "source": [
    "manifest = '\\n'.join(manifest)\n",
    "ncx = '\\n'.join(ncx)"
   ]
  },
  {
   "cell_type": "code",
   "execution_count": null,
   "metadata": {},
   "outputs": [],
   "source": [
    "with open(f'./{book_title}/OPS/content.opf', 'w') as tmp:\n",
    "    tmp.write(opfcontent % {\n",
    "        'metadata': metadata,\n",
    "        'manifest': manifest,\n",
    "        'ncx': ncx,\n",
    "    })"
   ]
  },
  {
   "cell_type": "code",
   "execution_count": null,
   "metadata": {},
   "outputs": [],
   "source": [
    "with open(f'./{book_title}/OPS/content.ncx', 'w') as tmp:\n",
    "    tmp.write(ncxcontent % {\n",
    "        'title': book_title,\n",
    "        'creator': author,\n",
    "        'navpoints': '\\n'.join(navpoints)\n",
    "    })"
   ]
  },
  {
   "cell_type": "markdown",
   "metadata": {},
   "source": [
    "## Download!"
   ]
  },
  {
   "cell_type": "code",
   "execution_count": 3,
   "metadata": {},
   "outputs": [
    {
     "data": {
      "text/plain": [
       "'/private/var/mobile/Library/Mobile Documents/com~apple~CloudDocs'"
      ]
     },
     "execution_count": 3,
     "metadata": {},
     "output_type": "execute_result"
    }
   ],
   "source": [
    "os.getcwd()"
   ]
  },
  {
   "cell_type": "code",
   "execution_count": null,
   "metadata": {},
   "outputs": [],
   "source": [
    "cover_img = soup.find(\"img\")\n",
    "if cover_img:\n",
    "    cover_img = cover_img['src']\n",
    "    img = requests.get(cover_img, stream=True)\n",
    "    if img.status_code == 200:\n",
    "        with open(f\"./{book_title}/OPS/cover.jpg\", \"wb\") as f:\n",
    "            shutil.copyfileobj(img.raw, f)\n",
    "    del img"
   ]
  },
  {
   "cell_type": "code",
   "execution_count": null,
   "metadata": {},
   "outputs": [],
   "source": [
    "template = '''<html xmlns=\"http://www.w3.org/1999/xhtml\" xml:lang=\"zh-CN\">\n",
    "<head>\n",
    "<meta http-equiv=\"Content-Type\" content=\"text/html; charset=utf-8\" />\n",
    "<link rel=\"stylesheet\" type=\"text/css\" href=\"css/main.css\"/>\n",
    "<title>%(title)s</title>\n",
    "</head>\n",
    "<body> c\n",
    "<h2>%(title)s</h2>\n",
    "<div>\n",
    "%(content)s\n",
    "</div>\n",
    "</body>\n",
    "</html>\n",
    "'''"
   ]
  },
  {
   "cell_type": "code",
   "execution_count": null,
   "metadata": {},
   "outputs": [],
   "source": [
    "for ch in menu_info:\n",
    "    t = ch['link']\n",
    "    print(\"Processing \" + t)\n",
    "    source = requests.get(base_url + ch['url'])\n",
    "    soup = BeautifulSoup(source.text, \"html.parser\")\n",
    "    sentences = soup.find(\"div\", attrs={'id':'content'}).findAll(text=True)\n",
    "    contents = []\n",
    "    for s in sentences:\n",
    "        tmp = s.replace('\\xa0', '')\n",
    "        contents.append(f'<p>{tmp}</p>')\n",
    "    with open(f'./{book_title}/OPS/{t}', 'w') as f:\n",
    "        f.write(template % {\n",
    "            'title': ch['chapter'],\n",
    "            'content': '\\n'.join(contents)\n",
    "        })"
   ]
  },
  {
   "cell_type": "markdown",
   "metadata": {},
   "source": [
    "## Pack the EPub Book!"
   ]
  },
  {
   "cell_type": "markdown",
   "metadata": {},
   "source": [
    "In this step, we will zip the folder then turn it into a \\*.epub package."
   ]
  },
  {
   "cell_type": "code",
   "execution_count": null,
   "metadata": {},
   "outputs": [],
   "source": [
    "# Collect all files in the folder\n",
    "file_paths = []\n",
    "for root, directories, files in os.walk(f'./{book_title}'): \n",
    "    for filename in files: \n",
    "        # join the two strings in order to form the full filepath. \n",
    "        filepath = os.path.join(root, filename) \n",
    "        file_paths.append(filepath)"
   ]
  },
  {
   "cell_type": "code",
   "execution_count": null,
   "metadata": {},
   "outputs": [],
   "source": [
    "from zipfile import ZipFile\n",
    "with ZipFile(f\"./{book_title}.epub\", \"w\") as z:\n",
    "    for f in file_paths:\n",
    "        z.write(f)\n",
    "        \n",
    "print(f\"Congratulations, {book_title}.epub has been freshly made!\")"
   ]
  },
  {
   "cell_type": "markdown",
   "metadata": {},
   "source": [
    "*Reference: https://www.jianshu.com/p/75b993cd2f68*\n",
    "## The End"
   ]
  },
  {
   "cell_type": "code",
   "execution_count": null,
   "metadata": {},
   "outputs": [],
   "source": []
  }
 ],
 "metadata": {
  "kernelspec": {
   "display_name": "Python 3",
   "language": "python",
   "name": "python3"
  },
  "language_info": {
   "codemirror_mode": {
    "name": "ipython",
    "version": 3
   },
   "file_extension": ".py",
   "mimetype": "text/x-python",
   "name": "python",
   "nbconvert_exporter": "python",
   "pygments_lexer": "ipython3",
   "version": "3.6.6+"
  }
 },
 "nbformat": 4,
 "nbformat_minor": 4
}
